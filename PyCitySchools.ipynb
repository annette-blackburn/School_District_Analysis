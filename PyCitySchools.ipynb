{
 "cells": [
  {
   "cell_type": "code",
   "execution_count": 1,
   "id": "950c106d",
   "metadata": {},
   "outputs": [
    {
     "data": {
      "text/plain": [
       "Student ID       39170\n",
       "student_name     39170\n",
       "gender           39170\n",
       "grade            39170\n",
       "school_name      39170\n",
       "reading_score    39170\n",
       "math_score       39170\n",
       "dtype: int64"
      ]
     },
     "execution_count": 1,
     "metadata": {},
     "output_type": "execute_result"
    }
   ],
   "source": [
    "# Add the Pandas dependency.\n",
    "import pandas as pd\n",
    "\n",
    "# Files to load\n",
    "school_data_to_load = \"./schools_complete.csv\"\n",
    "student_data_to_load = \"./students_complete.csv\"\n",
    "\n",
    "# Read the school data file and store it in a Pandas DataFrame.\n",
    "school_data_df = pd.read_csv(school_data_to_load)\n",
    "school_data_df\n",
    "\n",
    "# Read the student data file and store it in a Pandas DataFrame.\n",
    "student_data_df = pd.read_csv(student_data_to_load)\n",
    "student_data_df.head()\n",
    "\n",
    "# Determine if there are any missing values in the school data.\n",
    "school_data_df.count()\n",
    "\n",
    "# Determine if there are any missing values in the student data.\n",
    "student_data_df.count()\n"
   ]
  },
  {
   "cell_type": "code",
   "execution_count": 2,
   "id": "2242cfbf",
   "metadata": {},
   "outputs": [
    {
     "data": {
      "text/plain": [
       "School ID      15\n",
       "school_name    15\n",
       "type           15\n",
       "size           15\n",
       "budget         15\n",
       "dtype: int64"
      ]
     },
     "execution_count": 2,
     "metadata": {},
     "output_type": "execute_result"
    }
   ],
   "source": [
    "#The count() Method\n",
    "#Determine if there are any missing values in the school data\n",
    "school_data_df.count()\n",
    "\n",
    "#Determine if there are any missing values in the student data\n",
    "student_data_df.count()\n",
    "\n",
    "#The isnull() Method\n",
    "#Determine if there are any missing values in the school data\n",
    "school_data_df.isnull()\n",
    "\n",
    "#Determine if there are any missing values in the school data with total number of empty rows (or rows that are \"True\")\n",
    "school_data_df.isnull().sum()\n",
    "\n",
    "#The notnull() Method\n",
    "#Determine if there are not any missing values in the school data\n",
    "school_data_df.notnull()\n",
    "    #This output returns a copy of school_data_df DataFrame where all rows that do not have any missing values are labeled \"True\"\n",
    "\n",
    "#Determine if there are not any missing values in the school data\n",
    "school_data_df.notnull().sum()\n",
    "\n"
   ]
  },
  {
   "cell_type": "code",
   "execution_count": 3,
   "id": "c80e0674",
   "metadata": {},
   "outputs": [
    {
     "data": {
      "text/plain": [
       "Student ID        int64\n",
       "student_name     object\n",
       "gender           object\n",
       "grade            object\n",
       "school_name      object\n",
       "reading_score     int64\n",
       "math_score        int64\n",
       "dtype: object"
      ]
     },
     "execution_count": 3,
     "metadata": {},
     "output_type": "execute_result"
    }
   ],
   "source": [
    "#Determine data types for the school df\n",
    "school_data_df.dtypes\n",
    "\n",
    "#To find data type for budget column in school_data_df\n",
    "# school_data_df.budget.dtype \n",
    "#can also use:\n",
    "# school_data_df[\"budget\"].dtype\n",
    "\n",
    "#Determine data types for student df\n",
    "student_data_df.dtypes"
   ]
  },
  {
   "cell_type": "code",
   "execution_count": 4,
   "id": "9fbe7d04",
   "metadata": {},
   "outputs": [
    {
     "name": "stderr",
     "output_type": "stream",
     "text": [
      "/opt/anaconda3/envs/PythonData/lib/python3.7/site-packages/ipykernel_launcher.py:6: FutureWarning: The default value of regex will change from True to False in a future version.\n",
      "  \n"
     ]
    }
   ],
   "source": [
    "# Add each prefix and suffix to remove to a list.\n",
    "prefixes_suffixes = [\"Dr. \", \"Mr. \",\"Ms. \", \"Mrs. \", \"Miss \", \" MD\", \" DDS\", \" DVM\", \" PhD\"]\n",
    "\n",
    "# Iterate through the words in the \"prefixes_suffixes\" list and replace them with an empty space, \"\".\n",
    "for word in prefixes_suffixes:\n",
    "    student_data_df[\"student_name\"] = student_data_df[\"student_name\"].str.replace(word,\"\")"
   ]
  }
 ],
 "metadata": {
  "kernelspec": {
   "display_name": "PythonData",
   "language": "python",
   "name": "pythondata"
  },
  "language_info": {
   "codemirror_mode": {
    "name": "ipython",
    "version": 3
   },
   "file_extension": ".py",
   "mimetype": "text/x-python",
   "name": "python",
   "nbconvert_exporter": "python",
   "pygments_lexer": "ipython3",
   "version": "3.7.13"
  }
 },
 "nbformat": 4,
 "nbformat_minor": 5
}
